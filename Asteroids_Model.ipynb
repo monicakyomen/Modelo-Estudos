{
  "nbformat": 4,
  "nbformat_minor": 0,
  "metadata": {
    "colab": {
      "provenance": []
    },
    "kernelspec": {
      "name": "python3",
      "display_name": "Python 3"
    },
    "language_info": {
      "name": "python"
    }
  },
  "cells": [
    {
      "cell_type": "code",
      "execution_count": 1,
      "metadata": {
        "colab": {
          "base_uri": "https://localhost:8080/"
        },
        "id": "KvLtMLqYMRwQ",
        "outputId": "3ae113b4-d39f-49d5-aff1-5bf641947cf7"
      },
      "outputs": [
        {
          "output_type": "stream",
          "name": "stdout",
          "text": [
            "Downloading from https://www.kaggle.com/api/v1/datasets/download/shrutimehta/nasa-asteroids-classification?dataset_version_number=1...\n"
          ]
        },
        {
          "output_type": "stream",
          "name": "stderr",
          "text": [
            "100%|██████████| 3.27M/3.27M [00:00<00:00, 88.2MB/s]"
          ]
        },
        {
          "output_type": "stream",
          "name": "stdout",
          "text": [
            "Extracting files...\n"
          ]
        },
        {
          "output_type": "stream",
          "name": "stderr",
          "text": [
            "\n"
          ]
        },
        {
          "output_type": "stream",
          "name": "stdout",
          "text": [
            "Path to dataset files: /root/.cache/kagglehub/datasets/shrutimehta/nasa-asteroids-classification/versions/1\n"
          ]
        }
      ],
      "source": [
        "import kagglehub\n",
        "\n",
        "# Download latest version\n",
        "path = kagglehub.dataset_download(\"shrutimehta/nasa-asteroids-classification\")\n",
        "\n",
        "print(\"Path to dataset files:\", path)"
      ]
    },
    {
      "cell_type": "code",
      "source": [
        "import pandas as pd\n",
        "import os\n",
        "\n",
        "# Caminho para o arquivo CSV\n",
        "csv_path = os.path.join(path, 'nasa.csv')\n",
        "\n",
        "# Carregar o arquivo CSV em um DataFrame\n",
        "df = pd.read_csv(csv_path)\n",
        "\n",
        "# Mostrar as primeiras linhas do DataFrame\n",
        "print(df.head())\n"
      ],
      "metadata": {
        "colab": {
          "base_uri": "https://localhost:8080/"
        },
        "id": "apAlZcNkM38e",
        "outputId": "96b55a42-5ba3-4d58-8369-c8d677aebcd5"
      },
      "execution_count": 5,
      "outputs": [
        {
          "output_type": "stream",
          "name": "stdout",
          "text": [
            "   Neo Reference ID     Name  Absolute Magnitude  Est Dia in KM(min)  \\\n",
            "0           3703080  3703080                21.6            0.127220   \n",
            "1           3723955  3723955                21.3            0.146068   \n",
            "2           2446862  2446862                20.3            0.231502   \n",
            "3           3092506  3092506                27.4            0.008801   \n",
            "4           3514799  3514799                21.6            0.127220   \n",
            "\n",
            "   Est Dia in KM(max)  Est Dia in M(min)  Est Dia in M(max)  \\\n",
            "0            0.284472         127.219879         284.472297   \n",
            "1            0.326618         146.067964         326.617897   \n",
            "2            0.517654         231.502122         517.654482   \n",
            "3            0.019681           8.801465          19.680675   \n",
            "4            0.284472         127.219879         284.472297   \n",
            "\n",
            "   Est Dia in Miles(min)  Est Dia in Miles(max)  Est Dia in Feet(min)  ...  \\\n",
            "0               0.079051               0.176763            417.388066  ...   \n",
            "1               0.090762               0.202951            479.225620  ...   \n",
            "2               0.143849               0.321655            759.521423  ...   \n",
            "3               0.005469               0.012229             28.876199  ...   \n",
            "4               0.079051               0.176763            417.388066  ...   \n",
            "\n",
            "   Asc Node Longitude Orbital Period  Perihelion Distance  Perihelion Arg  \\\n",
            "0          314.373913     609.599786             0.808259       57.257470   \n",
            "1          136.717242     425.869294             0.718200      313.091975   \n",
            "2          259.475979     643.580228             0.950791      248.415038   \n",
            "3           57.173266     514.082140             0.983902       18.707701   \n",
            "4           84.629307     495.597821             0.967687      158.263596   \n",
            "\n",
            "   Aphelion Dist  Perihelion Time  Mean Anomaly  Mean Motion  Equinox  \\\n",
            "0       2.005764     2.458162e+06    264.837533     0.590551    J2000   \n",
            "1       1.497352     2.457795e+06    173.741112     0.845330    J2000   \n",
            "2       1.966857     2.458120e+06    292.893654     0.559371    J2000   \n",
            "3       1.527904     2.457902e+06     68.741007     0.700277    J2000   \n",
            "4       1.483543     2.457814e+06    135.142133     0.726395    J2000   \n",
            "\n",
            "   Hazardous  \n",
            "0       True  \n",
            "1      False  \n",
            "2       True  \n",
            "3      False  \n",
            "4       True  \n",
            "\n",
            "[5 rows x 40 columns]\n"
          ]
        }
      ]
    },
    {
      "cell_type": "code",
      "source": [
        "\n",
        "print(df.columns)"
      ],
      "metadata": {
        "colab": {
          "base_uri": "https://localhost:8080/"
        },
        "id": "g-sU91SPRiff",
        "outputId": "07ae1da4-25f9-4535-f2dd-9324f523839b"
      },
      "execution_count": 7,
      "outputs": [
        {
          "output_type": "stream",
          "name": "stdout",
          "text": [
            "Index(['Neo Reference ID', 'Name', 'Absolute Magnitude', 'Est Dia in KM(min)',\n",
            "       'Est Dia in KM(max)', 'Est Dia in M(min)', 'Est Dia in M(max)',\n",
            "       'Est Dia in Miles(min)', 'Est Dia in Miles(max)',\n",
            "       'Est Dia in Feet(min)', 'Est Dia in Feet(max)', 'Close Approach Date',\n",
            "       'Epoch Date Close Approach', 'Relative Velocity km per sec',\n",
            "       'Relative Velocity km per hr', 'Miles per hour',\n",
            "       'Miss Dist.(Astronomical)', 'Miss Dist.(lunar)',\n",
            "       'Miss Dist.(kilometers)', 'Miss Dist.(miles)', 'Orbiting Body',\n",
            "       'Orbit ID', 'Orbit Determination Date', 'Orbit Uncertainity',\n",
            "       'Minimum Orbit Intersection', 'Jupiter Tisserand Invariant',\n",
            "       'Epoch Osculation', 'Eccentricity', 'Semi Major Axis', 'Inclination',\n",
            "       'Asc Node Longitude', 'Orbital Period', 'Perihelion Distance',\n",
            "       'Perihelion Arg', 'Aphelion Dist', 'Perihelion Time', 'Mean Anomaly',\n",
            "       'Mean Motion', 'Equinox', 'Hazardous'],\n",
            "      dtype='object')\n"
          ]
        }
      ]
    },
    {
      "cell_type": "markdown",
      "source": [
        "# **Legenda**\n",
        "\n",
        "**1. Neo Reference ID:**\n",
        "• Um identificador único para o objeto próximo à Terra (Near-Earth Object, NEO).\n",
        "\n",
        "**2. Name:**\n",
        "• Nome ou número designado ao asteroide.\n",
        "\n",
        "**3. Absolute Magnitude:**\n",
        "• Brilho intrínseco do asteroide em uma escala logarítmica.\n",
        " Quanto menor o número, mais brilhante o objeto.\n",
        "\n",
        "**4. Est Dia in KM (max/min):**\n",
        "• Estimativa do diâmetro máximo e mínimo em quilômetros.\n",
        "\n",
        "**5. Est Dia in M (max/min):**\n",
        "• Estimativa do diâmetro máximo e mínimo em metros.\n",
        "\n",
        "**6. Est Dia in Miles (max/min):**\n",
        "• Estimativa do diâmetro máximo e mínimo em milhas.\n",
        "\n",
        "**7. Est Dia in Feet (max/min):**\n",
        "• Estimativa do diâmetro máximo e mínimo em pés.\n",
        "\n",
        "**8. Asc Node Longitude:**\n",
        "• Longitude do nó ascendente: um dos parâmetros orbitais que indicam onde a órbita do asteroide cruza o plano da eclíptica.\n",
        "\n",
        "**9. Orbital Period:**\n",
        "• Tempo (em dias ou anos) que o asteroide leva para completar uma órbita ao redor do Sol.\n",
        "\n",
        "**10. Perihelion Distance:**\n",
        "• Distância mínima do asteroide ao Sol durante sua órbita (em unidades astronômicas, AU).\n",
        "\n",
        "**11. Perihelion Arg (Argumento do Periélio):**\n",
        "• Indica a orientação da órbita do asteroide em relação ao Sol.\n",
        "\n",
        "**12. Aphelion Dist:**\n",
        "• Distância máxima do asteroide ao Sol durante sua órbita (em AU).\n",
        "\n",
        "**13. Perihelion Time:**\n",
        "• Tempo (em dias julianos ou outro formato) em que o asteroide estará no periélio (ponto mais próximo do Sol).\n",
        "\n",
        "**14. Mean Anomaly:**\n",
        "• Medida angular que indica a posição do asteroide em sua órbita em um determinado momento.\n",
        "\n",
        "**15. Mean Motion:**\n",
        "• Velocidade orbital média do asteroide (em graus por dia).\n",
        "\n",
        "**16. Equinox:**\n",
        "• Sistema de referência utilizado para os elementos orbitais (e.g., J2000 refere-se ao sistema de coordenadas do ano 2000).\n",
        "\n",
        "**17. Hazardous:**\n",
        "• Indica se o asteroide é potencialmente perigoso para a Terra (True/False)."
      ],
      "metadata": {
        "id": "NvhzPBHzPzBb"
      }
    },
    {
      "cell_type": "code",
      "source": [
        "import pandas as pd\n",
        "import numpy as np\n",
        "from sklearn.model_selection import StratifiedKFold, GridSearchCV\n",
        "from sklearn.metrics import accuracy_score, classification_report, confusion_matrix, ConfusionMatrixDisplay\n",
        "import xgboost as xgb\n",
        "import seaborn as sns\n",
        "import matplotlib.pyplot as plt\n",
        "from sklearn.model_selection import train_test_split"
      ],
      "metadata": {
        "id": "UySCaOWtOBcE"
      },
      "execution_count": 16,
      "outputs": []
    },
    {
      "cell_type": "code",
      "source": [
        "# Converter a coluna 'Hazardous' para valores numéricos (True = 1, False = 0)\n",
        "df['Hazardous'] = df['Hazardous'].astype(int)\n",
        "# Selecionar as variáveis relevantes\n",
        "features = [\n",
        "   'Absolute Magnitude', 'Est Dia in KM(max)', 'Perihelion Distance',\n",
        "   'Aphelion Dist', 'Orbital Period', 'Perihelion Time','Mean Motion', 'Mean Anomaly'\n",
        "]\n",
        "X = df[features]\n",
        "y = df['Hazardous']\n",
        "\n",
        "# Tratar valores nulos (substituir por mediana como exemplo)\n",
        "X = X.fillna(X.median())\n",
        "\n",
        "# Configurar validação cruzada Stratified K-Fold\n",
        "kf = StratifiedKFold(n_splits=5, shuffle=True, random_state=42)\n",
        "\n",
        "# Configurar o modelo XGBoost\n",
        "xgb_model = xgb.XGBClassifier(use_label_encoder=False, eval_metric='logloss', random_state=42)\n",
        "\n",
        "# Definir o grid de hiperparâmetros\n",
        "param_grid = {\n",
        "   'n_estimators': [100, 200, 300],\n",
        "   'max_depth': [3, 5, 7],\n",
        "   'learning_rate': [0.01, 0.1, 0.2],\n",
        "   'subsample': [0.8, 1.0],\n",
        "   'colsample_bytree': [0.8, 1.0]\n",
        "}\n",
        "# Configurar o GridSearchCV\n",
        "grid_search = GridSearchCV(\n",
        "   estimator=xgb_model,\n",
        "   param_grid=param_grid,\n",
        "   scoring='accuracy',\n",
        "   cv=kf,\n",
        "   verbose=1,\n",
        "   n_jobs=-1\n",
        ")\n",
        "# Executar o GridSearchCV\n",
        "grid_search.fit(X, y)\n",
        "\n",
        "# Resultados do GridSearchCV\n",
        "print(\"\\n--- Melhores Hiperparâmetros ---\")\n",
        "print(grid_search.best_params_)\n",
        "print(f\"Melhor Acurácia: {grid_search.best_score_:.4f}\")\n",
        "\n",
        "# Avaliar o modelo final\n",
        "best_model = grid_search.best_estimator_\n",
        "\n",
        "# Importância das variáveis\n",
        "feature_importances = pd.DataFrame({\n",
        "   'Feature': features,\n",
        "   'Importance': best_model.feature_importances_\n",
        "}).sort_values(by='Importance', ascending=False)\n"
      ],
      "metadata": {
        "colab": {
          "base_uri": "https://localhost:8080/"
        },
        "id": "TfQBvoNMPlOe",
        "outputId": "713cb781-477c-403e-ae1e-10ecb3cf6c27"
      },
      "execution_count": 9,
      "outputs": [
        {
          "output_type": "stream",
          "name": "stdout",
          "text": [
            "Fitting 5 folds for each of 108 candidates, totalling 540 fits\n"
          ]
        },
        {
          "output_type": "stream",
          "name": "stderr",
          "text": [
            "/usr/local/lib/python3.10/dist-packages/xgboost/core.py:158: UserWarning: [19:00:53] WARNING: /workspace/src/learner.cc:740: \n",
            "Parameters: { \"use_label_encoder\" } are not used.\n",
            "\n",
            "  warnings.warn(smsg, UserWarning)\n"
          ]
        },
        {
          "output_type": "stream",
          "name": "stdout",
          "text": [
            "\n",
            "--- Melhores Hiperparâmetros ---\n",
            "{'colsample_bytree': 0.8, 'learning_rate': 0.1, 'max_depth': 7, 'n_estimators': 200, 'subsample': 0.8}\n",
            "Melhor Acurácia: 0.8961\n"
          ]
        }
      ]
    },
    {
      "cell_type": "code",
      "source": [
        "# Visualizar importâncias\n",
        "plt.figure(figsize=(10, 6))\n",
        "sns.barplot(x='Importance', y='Feature', data=feature_importances, color='#FF66B2')\n",
        "plt.title('Importância das Variáveis - XGBoost')\n",
        "plt.show()"
      ],
      "metadata": {
        "colab": {
          "base_uri": "https://localhost:8080/",
          "height": 565
        },
        "id": "LtluY3kuUUez",
        "outputId": "96c97077-07d0-4573-f1d3-4cd81814d462"
      },
      "execution_count": 22,
      "outputs": [
        {
          "output_type": "display_data",
          "data": {
            "text/plain": [
              "<Figure size 1000x600 with 1 Axes>"
            ],
            "image/png": "[encoded data removed]"
          },
          "metadata": {}
        }
      ]
    },
    {
      "cell_type": "code",
      "source": [
        "# Fazendo a Divisão em treino e teste para plotar a matriz de confusão\n",
        "X_train, X_test, y_train, y_test = train_test_split(X, y, test_size=0.2, random_state=42, stratify=y)\n",
        "\n",
        "# Ajustar o GridSearchCV com os dados de treino\n",
        "grid_search.fit(X_train, y_train)\n",
        "\n",
        "# Fazer previsões no conjunto de teste\n",
        "y_pred = best_model.predict(X_test)\n",
        "\n",
        "# Calcular a matriz de confusão\n",
        "cm = confusion_matrix(y_test, y_pred)\n",
        "\n",
        "# Plotar a matriz de confusão\n",
        "disp = ConfusionMatrixDisplay(confusion_matrix=cm, display_labels=['Não Perigoso', 'Perigoso'])\n",
        "disp.plot(cmap=plt.cm.pink)\n",
        "plt.title('Matriz de Confusão')\n",
        "plt.show()"
      ],
      "metadata": {
        "colab": {
          "base_uri": "https://localhost:8080/",
          "height": 559
        },
        "id": "-LCZQuRmUYlZ",
        "outputId": "5cbe35a9-fdbf-4b65-c733-e033397c810d"
      },
      "execution_count": 21,
      "outputs": [
        {
          "output_type": "stream",
          "name": "stdout",
          "text": [
            "Fitting 5 folds for each of 108 candidates, totalling 540 fits\n"
          ]
        },
        {
          "output_type": "stream",
          "name": "stderr",
          "text": [
            "/usr/local/lib/python3.10/dist-packages/xgboost/core.py:158: UserWarning: [19:24:54] WARNING: /workspace/src/learner.cc:740: \n",
            "Parameters: { \"use_label_encoder\" } are not used.\n",
            "\n",
            "  warnings.warn(smsg, UserWarning)\n"
          ]
        },
        {
          "output_type": "display_data",
          "data": {
            "text/plain": [
              "<Figure size 640x480 with 2 Axes>"
            ],
            "image/png": "[encoded data removed]"
          },
          "metadata": {}
        }
      ]
    }
  ]
}